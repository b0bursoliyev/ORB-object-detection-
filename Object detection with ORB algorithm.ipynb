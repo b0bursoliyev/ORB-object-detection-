{
 "cells": [
  {
   "cell_type": "code",
   "execution_count": 1,
   "id": "f9ac60a9",
   "metadata": {},
   "outputs": [],
   "source": [
    "import numpy as np\n",
    "import cv2\n",
    "import matplotlib.pyplot as plt"
   ]
  },
  {
   "cell_type": "code",
   "execution_count": 2,
   "id": "4a5b43a1",
   "metadata": {},
   "outputs": [],
   "source": [
    "rasm = cv2.imread('stive.jpg')\n",
    "rasm_gray = cv2.cvtColor(rasm,cv2.COLOR_BGR2GRAY)\n",
    "rasm = cv2.pyrDown(rasm)\n",
    "rasm_gray = cv2.pyrDown(rasm_gray)\n",
    "\n",
    "video = cv2.VideoCapture('stive.mp4')\n",
    "\n",
    "def key_desc(img_gray,nfeatures): \n",
    "    orb = cv2.ORB_create(nfeatures)\n",
    "    key, desc = orb.detectAndCompute(img_gray,None)\n",
    "    return key, desc\n",
    "\n",
    "while video.isOpened():\n",
    "    ret, frame = video.read()\n",
    "    frame_gray = cv2.cvtColor(frame,cv2.COLOR_BGR2GRAY)\n",
    "       \n",
    "    key1,desc1 = key_desc(frame_gray,1000)\n",
    "    key2,desc2 = key_desc(rasm_gray,1000)\n",
    "    bf = cv2.BFMatcher(cv2.NORM_HAMMING2,crossCheck=True)\n",
    "    matches = bf.match(desc1,desc2)\n",
    "    matches = sorted(matches, key=lambda x: x.distance)\n",
    "    out_image = np.ones_like(frame_gray)\n",
    "    result = cv2.drawMatches(frame,key1,rasm,key2,matches[:10],out_image,flags=2)\n",
    "    \n",
    "    cv2.imshow(\"video\", result)  \n",
    "    if cv2.waitKey(1) & 0xFF == ord('q'):\n",
    "        break        \n",
    "video.release()\n",
    "cv2.destroyAllWindows()"
   ]
  }
 ],
 "metadata": {
  "kernelspec": {
   "display_name": "Python 3",
   "language": "python",
   "name": "python3"
  },
  "language_info": {
   "codemirror_mode": {
    "name": "ipython",
    "version": 3
   },
   "file_extension": ".py",
   "mimetype": "text/x-python",
   "name": "python",
   "nbconvert_exporter": "python",
   "pygments_lexer": "ipython3",
   "version": "3.11.4"
  }
 },
 "nbformat": 4,
 "nbformat_minor": 5
}
